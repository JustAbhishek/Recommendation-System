{
 "cells": [
  {
   "cell_type": "code",
   "execution_count": 4,
   "metadata": {},
   "outputs": [],
   "source": [
    "import selenium\n",
    "import time\n",
    "from selenium import webdriver\n",
    "import pandas as pd\n",
    "import numpy as np\n",
    "from selenium.common import exceptions"
   ]
  },
  {
   "cell_type": "code",
   "execution_count": 5,
   "metadata": {},
   "outputs": [],
   "source": [
    "driver = webdriver.Chrome()\n",
    "driver.get('https://sellercentral.amazon.com/forums/c/amazon-custom')"
   ]
  },
  {
   "cell_type": "code",
   "execution_count": 6,
   "metadata": {},
   "outputs": [],
   "source": [
    "for i in range(30):\n",
    "    driver.execute_script(\"window.scrollTo(0, document.body.scrollHeight);\")\n",
    "    time.sleep(3)\n",
    "\n",
    "data = driver.find_elements_by_css_selector('a[class = \"title raw-link raw-topic-link\"]')\n",
    "titles = [x.text for x in data]\n",
    "links = [x.get_attribute('href') for x in data]\n",
    "\n",
    "subcat_data = driver.find_elements_by_css_selector('span[class = \"category-name\"]')\n",
    "subcategory = [x.text for x in subcat_data[2:]]\n",
    "\n",
    "contents = []\n",
    "for link in links:\n",
    "    driver.get(link)\n",
    "    data = driver.find_elements_by_css_selector('div[class = \"cooked\"]')\n",
    "    content = [x.text.replace('\\n', ' ') for x in data]\n",
    "    contents.append(content)\n",
    "\n",
    "time.sleep(5)\n",
    "driver.quit()"
   ]
  },
  {
   "cell_type": "code",
   "execution_count": 7,
   "metadata": {},
   "outputs": [],
   "source": [
    "# Taking Posts Content\n",
    "posts = []\n",
    "responses = []\n",
    "for line in contents:\n",
    "    posts.append(line[0])\n",
    "    responses.append(line[1:])"
   ]
  },
  {
   "cell_type": "code",
   "execution_count": 22,
   "metadata": {},
   "outputs": [],
   "source": [
    "def response_df(urls, resps):\n",
    "    column_names = ['URL', 'Response Text']\n",
    "    df_resps = pd.DataFrame(columns = column_names)\n",
    "    for url,line in zip(urls, resps):\n",
    "        n = len(line)\n",
    "        sub_urls = [url] * n\n",
    "        new_df = pd.DataFrame(list(zip(sub_urls, line)), columns = column_names)\n",
    "        df_resps = pd.concat([df_resps, new_df])\n",
    "    return df_resps"
   ]
  },
  {
   "cell_type": "code",
   "execution_count": 25,
   "metadata": {},
   "outputs": [],
   "source": [
    "DF1 = pd.DataFrame(titles, columns=['Title'])\n",
    "DF1['Category'] = 'Amazon Custom'\n",
    "DF1['Sub-category'] = subcategory\n",
    "DF1['Post Text'] = posts\n",
    "DF1['URL'] = links"
   ]
  },
  {
   "cell_type": "code",
   "execution_count": 26,
   "metadata": {},
   "outputs": [
    {
     "data": {
      "text/html": [
       "<div>\n",
       "<style scoped>\n",
       "    .dataframe tbody tr th:only-of-type {\n",
       "        vertical-align: middle;\n",
       "    }\n",
       "\n",
       "    .dataframe tbody tr th {\n",
       "        vertical-align: top;\n",
       "    }\n",
       "\n",
       "    .dataframe thead th {\n",
       "        text-align: right;\n",
       "    }\n",
       "</style>\n",
       "<table border=\"1\" class=\"dataframe\">\n",
       "  <thead>\n",
       "    <tr style=\"text-align: right;\">\n",
       "      <th></th>\n",
       "      <th>Title</th>\n",
       "      <th>Category</th>\n",
       "      <th>Sub-category</th>\n",
       "      <th>Post Text</th>\n",
       "      <th>URL</th>\n",
       "    </tr>\n",
       "  </thead>\n",
       "  <tbody>\n",
       "    <tr>\n",
       "      <th>0</th>\n",
       "      <td>Testing requirements in toys and games category</td>\n",
       "      <td>Amazon Custom</td>\n",
       "      <td>Amazon Custom Forum</td>\n",
       "      <td>My product is domino sets for adults. I am the...</td>\n",
       "      <td>https://sellercentral.amazon.com/forums/t/test...</td>\n",
       "    </tr>\n",
       "    <tr>\n",
       "      <th>1</th>\n",
       "      <td>Food and Drug Administration</td>\n",
       "      <td>Amazon Custom</td>\n",
       "      <td>Amazon Custom</td>\n",
       "      <td>Hello, I am on my way to becoming an Amazon de...</td>\n",
       "      <td>https://sellercentral.amazon.com/forums/t/food...</td>\n",
       "    </tr>\n",
       "    <tr>\n",
       "      <th>2</th>\n",
       "      <td>Images Storage for mass upload</td>\n",
       "      <td>Amazon Custom</td>\n",
       "      <td>Amazon Custom</td>\n",
       "      <td>When uploading products with the spreadsheet w...</td>\n",
       "      <td>https://sellercentral.amazon.com/forums/t/imag...</td>\n",
       "    </tr>\n",
       "    <tr>\n",
       "      <th>3</th>\n",
       "      <td>Prepaid Return Label program email clarification</td>\n",
       "      <td>Amazon Custom</td>\n",
       "      <td>Amazon Custom Forum</td>\n",
       "      <td>You may have received an email from Amazon inf...</td>\n",
       "      <td>https://sellercentral.amazon.com/forums/t/prep...</td>\n",
       "    </tr>\n",
       "    <tr>\n",
       "      <th>4</th>\n",
       "      <td>Pulling Amazon Custom Personalizatoin Data fro...</td>\n",
       "      <td>Amazon Custom</td>\n",
       "      <td>Amazon Custom Forum</td>\n",
       "      <td>The problem: Currently Amazon gives you links ...</td>\n",
       "      <td>https://sellercentral.amazon.com/forums/t/pull...</td>\n",
       "    </tr>\n",
       "  </tbody>\n",
       "</table>\n",
       "</div>"
      ],
      "text/plain": [
       "                                               Title       Category  \\\n",
       "0    Testing requirements in toys and games category  Amazon Custom   \n",
       "1                       Food and Drug Administration  Amazon Custom   \n",
       "2                     Images Storage for mass upload  Amazon Custom   \n",
       "3   Prepaid Return Label program email clarification  Amazon Custom   \n",
       "4  Pulling Amazon Custom Personalizatoin Data fro...  Amazon Custom   \n",
       "\n",
       "          Sub-category                                          Post Text  \\\n",
       "0  Amazon Custom Forum  My product is domino sets for adults. I am the...   \n",
       "1        Amazon Custom  Hello, I am on my way to becoming an Amazon de...   \n",
       "2        Amazon Custom  When uploading products with the spreadsheet w...   \n",
       "3  Amazon Custom Forum  You may have received an email from Amazon inf...   \n",
       "4  Amazon Custom Forum  The problem: Currently Amazon gives you links ...   \n",
       "\n",
       "                                                 URL  \n",
       "0  https://sellercentral.amazon.com/forums/t/test...  \n",
       "1  https://sellercentral.amazon.com/forums/t/food...  \n",
       "2  https://sellercentral.amazon.com/forums/t/imag...  \n",
       "3  https://sellercentral.amazon.com/forums/t/prep...  \n",
       "4  https://sellercentral.amazon.com/forums/t/pull...  "
      ]
     },
     "execution_count": 26,
     "metadata": {},
     "output_type": "execute_result"
    }
   ],
   "source": [
    "DF1.head()"
   ]
  },
  {
   "cell_type": "code",
   "execution_count": 27,
   "metadata": {},
   "outputs": [],
   "source": [
    "DF2 = response_df(links, responses)"
   ]
  },
  {
   "cell_type": "code",
   "execution_count": 28,
   "metadata": {},
   "outputs": [
    {
     "data": {
      "text/html": [
       "<div>\n",
       "<style scoped>\n",
       "    .dataframe tbody tr th:only-of-type {\n",
       "        vertical-align: middle;\n",
       "    }\n",
       "\n",
       "    .dataframe tbody tr th {\n",
       "        vertical-align: top;\n",
       "    }\n",
       "\n",
       "    .dataframe thead th {\n",
       "        text-align: right;\n",
       "    }\n",
       "</style>\n",
       "<table border=\"1\" class=\"dataframe\">\n",
       "  <thead>\n",
       "    <tr style=\"text-align: right;\">\n",
       "      <th></th>\n",
       "      <th>URL</th>\n",
       "      <th>Response Text</th>\n",
       "    </tr>\n",
       "  </thead>\n",
       "  <tbody>\n",
       "    <tr>\n",
       "      <th>0</th>\n",
       "      <td>https://sellercentral.amazon.com/forums/t/imag...</td>\n",
       "      <td>I’m confused. The spreadsheet simply points to...</td>\n",
       "    </tr>\n",
       "    <tr>\n",
       "      <th>0</th>\n",
       "      <td>https://sellercentral.amazon.com/forums/t/prep...</td>\n",
       "      <td>Will I have the ability to add my RMA number t...</td>\n",
       "    </tr>\n",
       "    <tr>\n",
       "      <th>1</th>\n",
       "      <td>https://sellercentral.amazon.com/forums/t/prep...</td>\n",
       "      <td>The option will remain as it currently is</td>\n",
       "    </tr>\n",
       "    <tr>\n",
       "      <th>2</th>\n",
       "      <td>https://sellercentral.amazon.com/forums/t/prep...</td>\n",
       "      <td>Were based in the UK and sell mostly low value...</td>\n",
       "    </tr>\n",
       "    <tr>\n",
       "      <th>0</th>\n",
       "      <td>https://sellercentral.amazon.com/forums/t/pull...</td>\n",
       "      <td>We have the same issue and are very surprised ...</td>\n",
       "    </tr>\n",
       "  </tbody>\n",
       "</table>\n",
       "</div>"
      ],
      "text/plain": [
       "                                                 URL  \\\n",
       "0  https://sellercentral.amazon.com/forums/t/imag...   \n",
       "0  https://sellercentral.amazon.com/forums/t/prep...   \n",
       "1  https://sellercentral.amazon.com/forums/t/prep...   \n",
       "2  https://sellercentral.amazon.com/forums/t/prep...   \n",
       "0  https://sellercentral.amazon.com/forums/t/pull...   \n",
       "\n",
       "                                       Response Text  \n",
       "0  I’m confused. The spreadsheet simply points to...  \n",
       "0  Will I have the ability to add my RMA number t...  \n",
       "1          The option will remain as it currently is  \n",
       "2  Were based in the UK and sell mostly low value...  \n",
       "0  We have the same issue and are very surprised ...  "
      ]
     },
     "execution_count": 28,
     "metadata": {},
     "output_type": "execute_result"
    }
   ],
   "source": [
    "DF2.head()"
   ]
  },
  {
   "cell_type": "code",
   "execution_count": 29,
   "metadata": {},
   "outputs": [
    {
     "data": {
      "text/plain": [
       "<bound method NDFrame.describe of                                                  Title       Category  \\\n",
       "0      Testing requirements in toys and games category  Amazon Custom   \n",
       "1                         Food and Drug Administration  Amazon Custom   \n",
       "2                       Images Storage for mass upload  Amazon Custom   \n",
       "3     Prepaid Return Label program email clarification  Amazon Custom   \n",
       "4    Pulling Amazon Custom Personalizatoin Data fro...  Amazon Custom   \n",
       "..                                                 ...            ...   \n",
       "379                              Amazon Custom Program  Amazon Custom   \n",
       "380  Just enabled ‘Amazon Custom’ on my products, a...  Amazon Custom   \n",
       "381      Amazon Custom - Refunds. To do, or not to do?  Amazon Custom   \n",
       "382                              Custom Order Feedback  Amazon Custom   \n",
       "383  Amazon custom (personalized products) and thir...  Amazon Custom   \n",
       "\n",
       "            Sub-category                                          Post Text  \\\n",
       "0    Amazon Custom Forum  My product is domino sets for adults. I am the...   \n",
       "1          Amazon Custom  Hello, I am on my way to becoming an Amazon de...   \n",
       "2          Amazon Custom  When uploading products with the spreadsheet w...   \n",
       "3    Amazon Custom Forum  You may have received an email from Amazon inf...   \n",
       "4    Amazon Custom Forum  The problem: Currently Amazon gives you links ...   \n",
       "..                   ...                                                ...   \n",
       "379  Amazon Custom Forum  Are you applying? Dear Seller, Amazon Custom i...   \n",
       "380  Amazon Custom Forum  Hi there, I just enabled ‘Amazon Custom’ (for ...   \n",
       "381  Amazon Custom Forum  I am an Amazon “Custom” seller. I have had my ...   \n",
       "382  Amazon Custom Forum  I sold a custom item recently and was wonderin...   \n",
       "383  Amazon Custom Forum  Wondering if anyone who is currently testing o...   \n",
       "\n",
       "                                                   URL  \n",
       "0    https://sellercentral.amazon.com/forums/t/test...  \n",
       "1    https://sellercentral.amazon.com/forums/t/food...  \n",
       "2    https://sellercentral.amazon.com/forums/t/imag...  \n",
       "3    https://sellercentral.amazon.com/forums/t/prep...  \n",
       "4    https://sellercentral.amazon.com/forums/t/pull...  \n",
       "..                                                 ...  \n",
       "379  https://sellercentral.amazon.com/forums/t/amaz...  \n",
       "380  https://sellercentral.amazon.com/forums/t/just...  \n",
       "381  https://sellercentral.amazon.com/forums/t/amaz...  \n",
       "382  https://sellercentral.amazon.com/forums/t/cust...  \n",
       "383  https://sellercentral.amazon.com/forums/t/amaz...  \n",
       "\n",
       "[384 rows x 5 columns]>"
      ]
     },
     "execution_count": 29,
     "metadata": {},
     "output_type": "execute_result"
    }
   ],
   "source": [
    "DF1.describe"
   ]
  },
  {
   "cell_type": "code",
   "execution_count": 30,
   "metadata": {},
   "outputs": [
    {
     "data": {
      "text/plain": [
       "<bound method NDFrame.describe of                                                   URL  \\\n",
       "0   https://sellercentral.amazon.com/forums/t/imag...   \n",
       "0   https://sellercentral.amazon.com/forums/t/prep...   \n",
       "1   https://sellercentral.amazon.com/forums/t/prep...   \n",
       "2   https://sellercentral.amazon.com/forums/t/prep...   \n",
       "0   https://sellercentral.amazon.com/forums/t/pull...   \n",
       "..                                                ...   \n",
       "11  https://sellercentral.amazon.com/forums/t/amaz...   \n",
       "12  https://sellercentral.amazon.com/forums/t/amaz...   \n",
       "13  https://sellercentral.amazon.com/forums/t/amaz...   \n",
       "0   https://sellercentral.amazon.com/forums/t/cust...   \n",
       "1   https://sellercentral.amazon.com/forums/t/cust...   \n",
       "\n",
       "                                        Response Text  \n",
       "0   I’m confused. The spreadsheet simply points to...  \n",
       "0   Will I have the ability to add my RMA number t...  \n",
       "1           The option will remain as it currently is  \n",
       "2   Were based in the UK and sell mostly low value...  \n",
       "0   We have the same issue and are very surprised ...  \n",
       "..                                                ...  \n",
       "11  Thanks for the input. From what I have experie...  \n",
       "12  even though custom items cannot be returned as...  \n",
       "13  I agree. After this initial learning curve and...  \n",
       "0   Hey Gravity Glass, Your customer can absolutel...  \n",
       "1                     Great! Thank you for your help!  \n",
       "\n",
       "[832 rows x 2 columns]>"
      ]
     },
     "execution_count": 30,
     "metadata": {},
     "output_type": "execute_result"
    }
   ],
   "source": [
    "DF2.describe"
   ]
  },
  {
   "cell_type": "code",
   "execution_count": 31,
   "metadata": {},
   "outputs": [],
   "source": [
    "DF1.to_csv(\"DF1_team7a.csv\", index = False)\n",
    "DF2.to_csv(\"DF2_team7a.csv\", index = False)"
   ]
  },
  {
   "cell_type": "code",
   "execution_count": null,
   "metadata": {},
   "outputs": [],
   "source": []
  }
 ],
 "metadata": {
  "kernelspec": {
   "display_name": "Python 3",
   "language": "python",
   "name": "python3"
  },
  "language_info": {
   "codemirror_mode": {
    "name": "ipython",
    "version": 3
   },
   "file_extension": ".py",
   "mimetype": "text/x-python",
   "name": "python",
   "nbconvert_exporter": "python",
   "pygments_lexer": "ipython3",
   "version": "3.7.3"
  }
 },
 "nbformat": 4,
 "nbformat_minor": 4
}
